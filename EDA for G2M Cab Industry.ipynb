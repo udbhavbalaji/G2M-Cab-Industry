{
 "cells": [
  {
   "cell_type": "markdown",
   "id": "3eba3b17",
   "metadata": {},
   "source": [
    "# Importing the Required Libraries and Taking a Peek at the Data"
   ]
  },
  {
   "cell_type": "code",
   "execution_count": 13,
   "id": "01d50958",
   "metadata": {},
   "outputs": [],
   "source": [
    "%matplotlib inline\n",
    "import pandas as pd\n",
    "import numpy as np\n",
    "import matplotlib as mpl\n",
    "import seaborn as sns\n",
    "import matplotlib.pyplot as plt"
   ]
  },
  {
   "cell_type": "markdown",
   "id": "20a1d5ab",
   "metadata": {},
   "source": [
    "# Exploring the Cab_Data.csv file\n",
    "__The following columns are present in the dataset:__\n",
    "- Transaction ID (txnID): ID of transactions of the rides by the Pink/Yellow Companies\n",
    "- Date Of Travel (travel_date): Date of the ride\n",
    "- Company (company): Which company did the ride\n",
    "- City (city): Which city was the ride in\n",
    "- KM Travelled (travel_distance): Distance of the ride\n",
    "- Price Charged (price): Price charged by the company for the ride\n",
    "- Cost of Trip (cost): Working cost of company for the ride\n",
    "\n",
    "__Let us proceed with some Data Exploration for the individual files before moving on to rthe master data.__"
   ]
  },
  {
   "cell_type": "code",
   "execution_count": 14,
   "id": "819ad82f",
   "metadata": {},
   "outputs": [
    {
     "data": {
      "text/html": [
       "<div>\n",
       "<style scoped>\n",
       "    .dataframe tbody tr th:only-of-type {\n",
       "        vertical-align: middle;\n",
       "    }\n",
       "\n",
       "    .dataframe tbody tr th {\n",
       "        vertical-align: top;\n",
       "    }\n",
       "\n",
       "    .dataframe thead th {\n",
       "        text-align: right;\n",
       "    }\n",
       "</style>\n",
       "<table border=\"1\" class=\"dataframe\">\n",
       "  <thead>\n",
       "    <tr style=\"text-align: right;\">\n",
       "      <th></th>\n",
       "      <th>Transaction ID</th>\n",
       "      <th>Date of Travel</th>\n",
       "      <th>Company</th>\n",
       "      <th>City</th>\n",
       "      <th>KM Travelled</th>\n",
       "      <th>Price Charged</th>\n",
       "      <th>Cost of Trip</th>\n",
       "    </tr>\n",
       "  </thead>\n",
       "  <tbody>\n",
       "    <tr>\n",
       "      <th>0</th>\n",
       "      <td>10000011</td>\n",
       "      <td>42377</td>\n",
       "      <td>Pink Cab</td>\n",
       "      <td>ATLANTA GA</td>\n",
       "      <td>30.45</td>\n",
       "      <td>370.95</td>\n",
       "      <td>313.635</td>\n",
       "    </tr>\n",
       "    <tr>\n",
       "      <th>1</th>\n",
       "      <td>10000012</td>\n",
       "      <td>42375</td>\n",
       "      <td>Pink Cab</td>\n",
       "      <td>ATLANTA GA</td>\n",
       "      <td>28.62</td>\n",
       "      <td>358.52</td>\n",
       "      <td>334.854</td>\n",
       "    </tr>\n",
       "    <tr>\n",
       "      <th>2</th>\n",
       "      <td>10000013</td>\n",
       "      <td>42371</td>\n",
       "      <td>Pink Cab</td>\n",
       "      <td>ATLANTA GA</td>\n",
       "      <td>9.04</td>\n",
       "      <td>125.20</td>\n",
       "      <td>97.632</td>\n",
       "    </tr>\n",
       "    <tr>\n",
       "      <th>3</th>\n",
       "      <td>10000014</td>\n",
       "      <td>42376</td>\n",
       "      <td>Pink Cab</td>\n",
       "      <td>ATLANTA GA</td>\n",
       "      <td>33.17</td>\n",
       "      <td>377.40</td>\n",
       "      <td>351.602</td>\n",
       "    </tr>\n",
       "    <tr>\n",
       "      <th>4</th>\n",
       "      <td>10000015</td>\n",
       "      <td>42372</td>\n",
       "      <td>Pink Cab</td>\n",
       "      <td>ATLANTA GA</td>\n",
       "      <td>8.73</td>\n",
       "      <td>114.62</td>\n",
       "      <td>97.776</td>\n",
       "    </tr>\n",
       "  </tbody>\n",
       "</table>\n",
       "</div>"
      ],
      "text/plain": [
       "   Transaction ID  Date of Travel   Company        City  KM Travelled  \\\n",
       "0        10000011           42377  Pink Cab  ATLANTA GA         30.45   \n",
       "1        10000012           42375  Pink Cab  ATLANTA GA         28.62   \n",
       "2        10000013           42371  Pink Cab  ATLANTA GA          9.04   \n",
       "3        10000014           42376  Pink Cab  ATLANTA GA         33.17   \n",
       "4        10000015           42372  Pink Cab  ATLANTA GA          8.73   \n",
       "\n",
       "   Price Charged  Cost of Trip  \n",
       "0         370.95       313.635  \n",
       "1         358.52       334.854  \n",
       "2         125.20        97.632  \n",
       "3         377.40       351.602  \n",
       "4         114.62        97.776  "
      ]
     },
     "execution_count": 14,
     "metadata": {},
     "output_type": "execute_result"
    }
   ],
   "source": [
    "cab_data = pd.read_csv('Datasets/Cab_Data.csv')\n",
    "cab_data.head()"
   ]
  },
  {
   "cell_type": "code",
   "execution_count": 15,
   "id": "f27da41d",
   "metadata": {},
   "outputs": [
    {
     "data": {
      "text/html": [
       "<div>\n",
       "<style scoped>\n",
       "    .dataframe tbody tr th:only-of-type {\n",
       "        vertical-align: middle;\n",
       "    }\n",
       "\n",
       "    .dataframe tbody tr th {\n",
       "        vertical-align: top;\n",
       "    }\n",
       "\n",
       "    .dataframe thead th {\n",
       "        text-align: right;\n",
       "    }\n",
       "</style>\n",
       "<table border=\"1\" class=\"dataframe\">\n",
       "  <thead>\n",
       "    <tr style=\"text-align: right;\">\n",
       "      <th></th>\n",
       "      <th>Transaction ID</th>\n",
       "      <th>Date of Travel</th>\n",
       "      <th>KM Travelled</th>\n",
       "      <th>Price Charged</th>\n",
       "      <th>Cost of Trip</th>\n",
       "    </tr>\n",
       "  </thead>\n",
       "  <tbody>\n",
       "    <tr>\n",
       "      <th>count</th>\n",
       "      <td>3.593920e+05</td>\n",
       "      <td>359392.000000</td>\n",
       "      <td>359392.000000</td>\n",
       "      <td>359392.000000</td>\n",
       "      <td>359392.000000</td>\n",
       "    </tr>\n",
       "    <tr>\n",
       "      <th>mean</th>\n",
       "      <td>1.022076e+07</td>\n",
       "      <td>42964.067998</td>\n",
       "      <td>22.567254</td>\n",
       "      <td>423.443311</td>\n",
       "      <td>286.190113</td>\n",
       "    </tr>\n",
       "    <tr>\n",
       "      <th>std</th>\n",
       "      <td>1.268058e+05</td>\n",
       "      <td>307.467197</td>\n",
       "      <td>12.233526</td>\n",
       "      <td>274.378911</td>\n",
       "      <td>157.993661</td>\n",
       "    </tr>\n",
       "    <tr>\n",
       "      <th>min</th>\n",
       "      <td>1.000001e+07</td>\n",
       "      <td>42371.000000</td>\n",
       "      <td>1.900000</td>\n",
       "      <td>15.600000</td>\n",
       "      <td>19.000000</td>\n",
       "    </tr>\n",
       "    <tr>\n",
       "      <th>25%</th>\n",
       "      <td>1.011081e+07</td>\n",
       "      <td>42697.000000</td>\n",
       "      <td>12.000000</td>\n",
       "      <td>206.437500</td>\n",
       "      <td>151.200000</td>\n",
       "    </tr>\n",
       "    <tr>\n",
       "      <th>50%</th>\n",
       "      <td>1.022104e+07</td>\n",
       "      <td>42988.000000</td>\n",
       "      <td>22.440000</td>\n",
       "      <td>386.360000</td>\n",
       "      <td>282.480000</td>\n",
       "    </tr>\n",
       "    <tr>\n",
       "      <th>75%</th>\n",
       "      <td>1.033094e+07</td>\n",
       "      <td>43232.000000</td>\n",
       "      <td>32.960000</td>\n",
       "      <td>583.660000</td>\n",
       "      <td>413.683200</td>\n",
       "    </tr>\n",
       "    <tr>\n",
       "      <th>max</th>\n",
       "      <td>1.044011e+07</td>\n",
       "      <td>43465.000000</td>\n",
       "      <td>48.000000</td>\n",
       "      <td>2048.030000</td>\n",
       "      <td>691.200000</td>\n",
       "    </tr>\n",
       "  </tbody>\n",
       "</table>\n",
       "</div>"
      ],
      "text/plain": [
       "       Transaction ID  Date of Travel   KM Travelled  Price Charged  \\\n",
       "count    3.593920e+05   359392.000000  359392.000000  359392.000000   \n",
       "mean     1.022076e+07    42964.067998      22.567254     423.443311   \n",
       "std      1.268058e+05      307.467197      12.233526     274.378911   \n",
       "min      1.000001e+07    42371.000000       1.900000      15.600000   \n",
       "25%      1.011081e+07    42697.000000      12.000000     206.437500   \n",
       "50%      1.022104e+07    42988.000000      22.440000     386.360000   \n",
       "75%      1.033094e+07    43232.000000      32.960000     583.660000   \n",
       "max      1.044011e+07    43465.000000      48.000000    2048.030000   \n",
       "\n",
       "        Cost of Trip  \n",
       "count  359392.000000  \n",
       "mean      286.190113  \n",
       "std       157.993661  \n",
       "min        19.000000  \n",
       "25%       151.200000  \n",
       "50%       282.480000  \n",
       "75%       413.683200  \n",
       "max       691.200000  "
      ]
     },
     "execution_count": 15,
     "metadata": {},
     "output_type": "execute_result"
    }
   ],
   "source": [
    "# Getting information of the continuous/numeric variables\n",
    "cab_data.describe()"
   ]
  },
  {
   "cell_type": "code",
   "execution_count": 16,
   "id": "0b1126ff",
   "metadata": {},
   "outputs": [
    {
     "name": "stdout",
     "output_type": "stream",
     "text": [
      "<class 'pandas.core.frame.DataFrame'>\n",
      "RangeIndex: 359392 entries, 0 to 359391\n",
      "Data columns (total 7 columns):\n",
      " #   Column          Non-Null Count   Dtype  \n",
      "---  ------          --------------   -----  \n",
      " 0   Transaction ID  359392 non-null  int64  \n",
      " 1   Date of Travel  359392 non-null  int64  \n",
      " 2   Company         359392 non-null  object \n",
      " 3   City            359392 non-null  object \n",
      " 4   KM Travelled    359392 non-null  float64\n",
      " 5   Price Charged   359392 non-null  float64\n",
      " 6   Cost of Trip    359392 non-null  float64\n",
      "dtypes: float64(3), int64(2), object(2)\n",
      "memory usage: 19.2+ MB\n"
     ]
    }
   ],
   "source": [
    "cab_data.info()"
   ]
  },
  {
   "cell_type": "markdown",
   "id": "3baea708",
   "metadata": {},
   "source": [
    "__As we can see from the describe and info table, there are no missing values in Cab_Data.csv__"
   ]
  },
  {
   "cell_type": "code",
   "execution_count": 17,
   "id": "9e84cbb0",
   "metadata": {},
   "outputs": [
    {
     "data": {
      "text/html": [
       "<div>\n",
       "<style scoped>\n",
       "    .dataframe tbody tr th:only-of-type {\n",
       "        vertical-align: middle;\n",
       "    }\n",
       "\n",
       "    .dataframe tbody tr th {\n",
       "        vertical-align: top;\n",
       "    }\n",
       "\n",
       "    .dataframe thead th {\n",
       "        text-align: right;\n",
       "    }\n",
       "</style>\n",
       "<table border=\"1\" class=\"dataframe\">\n",
       "  <thead>\n",
       "    <tr style=\"text-align: right;\">\n",
       "      <th></th>\n",
       "      <th>txnID</th>\n",
       "      <th>travel_date</th>\n",
       "      <th>company</th>\n",
       "      <th>city</th>\n",
       "      <th>travel_distance</th>\n",
       "      <th>price</th>\n",
       "      <th>cost</th>\n",
       "    </tr>\n",
       "  </thead>\n",
       "  <tbody>\n",
       "    <tr>\n",
       "      <th>0</th>\n",
       "      <td>10000011</td>\n",
       "      <td>42377</td>\n",
       "      <td>Pink Cab</td>\n",
       "      <td>ATLANTA GA</td>\n",
       "      <td>30.45</td>\n",
       "      <td>370.95</td>\n",
       "      <td>313.635</td>\n",
       "    </tr>\n",
       "    <tr>\n",
       "      <th>1</th>\n",
       "      <td>10000012</td>\n",
       "      <td>42375</td>\n",
       "      <td>Pink Cab</td>\n",
       "      <td>ATLANTA GA</td>\n",
       "      <td>28.62</td>\n",
       "      <td>358.52</td>\n",
       "      <td>334.854</td>\n",
       "    </tr>\n",
       "    <tr>\n",
       "      <th>2</th>\n",
       "      <td>10000013</td>\n",
       "      <td>42371</td>\n",
       "      <td>Pink Cab</td>\n",
       "      <td>ATLANTA GA</td>\n",
       "      <td>9.04</td>\n",
       "      <td>125.20</td>\n",
       "      <td>97.632</td>\n",
       "    </tr>\n",
       "    <tr>\n",
       "      <th>3</th>\n",
       "      <td>10000014</td>\n",
       "      <td>42376</td>\n",
       "      <td>Pink Cab</td>\n",
       "      <td>ATLANTA GA</td>\n",
       "      <td>33.17</td>\n",
       "      <td>377.40</td>\n",
       "      <td>351.602</td>\n",
       "    </tr>\n",
       "    <tr>\n",
       "      <th>4</th>\n",
       "      <td>10000015</td>\n",
       "      <td>42372</td>\n",
       "      <td>Pink Cab</td>\n",
       "      <td>ATLANTA GA</td>\n",
       "      <td>8.73</td>\n",
       "      <td>114.62</td>\n",
       "      <td>97.776</td>\n",
       "    </tr>\n",
       "  </tbody>\n",
       "</table>\n",
       "</div>"
      ],
      "text/plain": [
       "      txnID  travel_date   company        city  travel_distance   price  \\\n",
       "0  10000011        42377  Pink Cab  ATLANTA GA            30.45  370.95   \n",
       "1  10000012        42375  Pink Cab  ATLANTA GA            28.62  358.52   \n",
       "2  10000013        42371  Pink Cab  ATLANTA GA             9.04  125.20   \n",
       "3  10000014        42376  Pink Cab  ATLANTA GA            33.17  377.40   \n",
       "4  10000015        42372  Pink Cab  ATLANTA GA             8.73  114.62   \n",
       "\n",
       "      cost  \n",
       "0  313.635  \n",
       "1  334.854  \n",
       "2   97.632  \n",
       "3  351.602  \n",
       "4   97.776  "
      ]
     },
     "execution_count": 17,
     "metadata": {},
     "output_type": "execute_result"
    }
   ],
   "source": [
    "# Renaming the columns to help ease of querying\n",
    "cab_data.columns = ['txnID','travel_date','company','city','travel_distance','price','cost']\n",
    "cab_data.head()"
   ]
  },
  {
   "cell_type": "code",
   "execution_count": 18,
   "id": "43868242",
   "metadata": {},
   "outputs": [
    {
     "name": "stdout",
     "output_type": "stream",
     "text": [
      "Yellow Cab    274681\n",
      "Pink Cab       84711\n",
      "Name: company, dtype: int64\n"
     ]
    },
    {
     "data": {
      "image/png": "[encoded data removed]",
      "text/plain": [
       "<Figure size 1440x72 with 1 Axes>"
      ]
     },
     "metadata": {
      "needs_background": "light"
     },
     "output_type": "display_data"
    }
   ],
   "source": [
    "fig = plt.figure(figsize=(20,1))\n",
    "sns.countplot(y='company', data=cab_data)\n",
    "print(cab_data.company.value_counts())"
   ]
  },
  {
   "cell_type": "markdown",
   "id": "e444431e",
   "metadata": {},
   "source": [
    "__We can observe that the Yellow Company has done more than 3 times the rides than the Pink Cab did.__\n",
    "\n",
    "__Let's go through the data about the number of rides in each city.__"
   ]
  },
  {
   "cell_type": "code",
   "execution_count": 19,
   "id": "90eba90d",
   "metadata": {},
   "outputs": [],
   "source": [
    "def cab_separator(df, city):\n",
    "    city_df = df[df['city'] == city]\n",
    "    pink = city_df.company.value_counts()['Pink Cab']\n",
    "    yellow = city_df.company.value_counts()['Yellow Cab']\n",
    "    return pink,yellow"
   ]
  },
  {
   "cell_type": "code",
   "execution_count": 20,
   "id": "bd700b61",
   "metadata": {},
   "outputs": [
    {
     "data": {
      "text/plain": [
       "[1762,\n",
       " 1868,\n",
       " 5186,\n",
       " 9361,\n",
       " 1380,\n",
       " 1394,\n",
       " 19865,\n",
       " 2002,\n",
       " 1841,\n",
       " 13967,\n",
       " 1513,\n",
       " 864,\n",
       " 682,\n",
       " 1334,\n",
       " 10672,\n",
       " 2732,\n",
       " 3797,\n",
       " 799,\n",
       " 3692]"
      ]
     },
     "execution_count": 20,
     "metadata": {},
     "output_type": "execute_result"
    }
   ],
   "source": [
    "city_list = list(cab_data['city'].unique())\n",
    "pink_list = []\n",
    "yellow_list = []\n",
    "for city in city_list:\n",
    "    pink,yellow = cab_separator(cab_data, city)\n",
    "    pink_list.append(pink)\n",
    "    yellow_list.append(yellow)\n",
    "pink_list"
   ]
  },
  {
   "cell_type": "code",
   "execution_count": 21,
   "id": "f15a7481",
   "metadata": {},
   "outputs": [
    {
     "data": {
      "text/plain": [
       "company     city          \n",
       "Pink Cab    LOS ANGELES CA    19865\n",
       "            NEW YORK NY       13967\n",
       "            SAN DIEGO CA      10672\n",
       "            CHICAGO IL         9361\n",
       "            BOSTON MA          5186\n",
       "            SILICON VALLEY     3797\n",
       "            WASHINGTON DC      3692\n",
       "            SEATTLE WA         2732\n",
       "            MIAMI FL           2002\n",
       "            AUSTIN TX          1868\n",
       "            NASHVILLE TN       1841\n",
       "            ATLANTA GA         1762\n",
       "            ORANGE COUNTY      1513\n",
       "            DENVER CO          1394\n",
       "            DALLAS TX          1380\n",
       "            SACRAMENTO CA      1334\n",
       "            PHOENIX AZ          864\n",
       "            TUCSON AZ           799\n",
       "            PITTSBURGH PA       682\n",
       "Yellow Cab  NEW YORK NY       85918\n",
       "            CHICAGO IL        47264\n",
       "            WASHINGTON DC     40045\n",
       "            LOS ANGELES CA    28168\n",
       "            BOSTON MA         24506\n",
       "            SAN DIEGO CA       9816\n",
       "            ATLANTA GA         5795\n",
       "            DALLAS TX          5637\n",
       "            SEATTLE WA         5265\n",
       "            SILICON VALLEY     4722\n",
       "            MIAMI FL           4452\n",
       "            AUSTIN TX          3028\n",
       "            ORANGE COUNTY      2469\n",
       "            DENVER CO          2431\n",
       "            PHOENIX AZ         1200\n",
       "            NASHVILLE TN       1169\n",
       "            TUCSON AZ          1132\n",
       "            SACRAMENTO CA      1033\n",
       "            PITTSBURGH PA       631\n",
       "Name: city, dtype: int64"
      ]
     },
     "execution_count": 21,
     "metadata": {},
     "output_type": "execute_result"
    }
   ],
   "source": [
    "cab_data.groupby('company').city.value_counts()"
   ]
  },
  {
   "cell_type": "code",
   "execution_count": 22,
   "id": "64657dcd",
   "metadata": {},
   "outputs": [
    {
     "data": {
      "text/plain": [
       "<matplotlib.legend.Legend at 0x7fa33df26100>"
      ]
     },
     "execution_count": 22,
     "metadata": {},
     "output_type": "execute_result"
    },
    {
     "data": {
      "image/png": "[encoded data removed]",
      "text/plain": [
       "<Figure size 2400x1600 with 1 Axes>"
      ]
     },
     "metadata": {
      "needs_background": "light"
     },
     "output_type": "display_data"
    }
   ],
   "source": [
    "x = np.arange(19)\n",
    "width = 0.40\n",
    "plt.figure(figsize=(30, 20), dpi=80)\n",
    "plt.bar(x, yellow_list, width, color='gold')\n",
    "plt.bar(x, pink_list, width, bottom=yellow_list, color='pink')\n",
    "\n",
    "plt.xticks(x, city_list, rotation=45, fontsize=15)\n",
    "plt.yticks(fontsize=20)\n",
    "plt.xlabel(\"Cities\", fontsize=15)\n",
    "plt.ylabel('Customers', rotation=360, fontsize=20)\n",
    "plt.title('Customer Distribution in Different Areas of Operation', fontsize=30)\n",
    "plt.legend(['Pink','Yellow'], prop={'size':20}, fontsize=15)"
   ]
  },
  {
   "cell_type": "markdown",
   "id": "ba5ee082",
   "metadata": {},
   "source": [
    "__As we can see, the average profit made by the Yellow Company on rides shorter than 2 kms is significantly higher than the average profits made by the Pink Company.__\n",
    "\n",
    "__In fact, we see this trend continue into the rides of all distances, with the average profit of the Yellow company being almost 2.56 times greater than the average profit earned by the Pink company.__\n",
    "\n",
    "__By inspecting further the price and cost of both the companies, we observe that while Yellow company has a higher average cost than Pink Company, the difference being less than 50 dollars. The difference in average price, however, is much more significant with the Yellow company's price exceeding that of the Pink company's by almost 140 dollars.__"
   ]
  },
  {
   "cell_type": "code",
   "execution_count": 23,
   "id": "49d6f250",
   "metadata": {},
   "outputs": [
    {
     "data": {
      "text/plain": [
       "company\n",
       "Pink Cab      248.148682\n",
       "Yellow Cab    297.922004\n",
       "Name: cost, dtype: float64"
      ]
     },
     "execution_count": 23,
     "metadata": {},
     "output_type": "execute_result"
    }
   ],
   "source": [
    "cab_data.groupby('company').cost.mean()"
   ]
  },
  {
   "cell_type": "code",
   "execution_count": 24,
   "id": "43ee00e9",
   "metadata": {},
   "outputs": [
    {
     "data": {
      "text/plain": [
       "company\n",
       "Pink Cab      310.800856\n",
       "Yellow Cab    458.181990\n",
       "Name: price, dtype: float64"
      ]
     },
     "execution_count": 24,
     "metadata": {},
     "output_type": "execute_result"
    }
   ],
   "source": [
    "cab_data.groupby('company').price.mean()"
   ]
  },
  {
   "cell_type": "markdown",
   "id": "7edd5f78",
   "metadata": {},
   "source": [
    "# Exploring the City.csv data\n",
    "\n",
    "__The following columns are present in the dataset:__\n",
    "- City (city): Name of the City\n",
    "- Population (population): Population of the city\n",
    "- Users (users): Number of cab users in the city\n",
    "\n",
    "__Let us see the correlation between the population and users in each city and see if theres a pattern to observe.__"
   ]
  },
  {
   "cell_type": "code",
   "execution_count": 25,
   "id": "96beab03",
   "metadata": {},
   "outputs": [
    {
     "data": {
      "text/html": [
       "<div>\n",
       "<style scoped>\n",
       "    .dataframe tbody tr th:only-of-type {\n",
       "        vertical-align: middle;\n",
       "    }\n",
       "\n",
       "    .dataframe tbody tr th {\n",
       "        vertical-align: top;\n",
       "    }\n",
       "\n",
       "    .dataframe thead th {\n",
       "        text-align: right;\n",
       "    }\n",
       "</style>\n",
       "<table border=\"1\" class=\"dataframe\">\n",
       "  <thead>\n",
       "    <tr style=\"text-align: right;\">\n",
       "      <th></th>\n",
       "      <th>population</th>\n",
       "      <th>users</th>\n",
       "    </tr>\n",
       "  </thead>\n",
       "  <tbody>\n",
       "    <tr>\n",
       "      <th>population</th>\n",
       "      <td>1.000000</td>\n",
       "      <td>0.703382</td>\n",
       "    </tr>\n",
       "    <tr>\n",
       "      <th>users</th>\n",
       "      <td>0.703382</td>\n",
       "      <td>1.000000</td>\n",
       "    </tr>\n",
       "  </tbody>\n",
       "</table>\n",
       "</div>"
      ],
      "text/plain": [
       "            population     users\n",
       "population    1.000000  0.703382\n",
       "users         0.703382  1.000000"
      ]
     },
     "execution_count": 25,
     "metadata": {},
     "output_type": "execute_result"
    }
   ],
   "source": [
    "city = pd.read_csv('Datasets/City.csv')\n",
    "city.columns = ['city','population','users']\n",
    "city['population'] = city['population'].str.replace(',', '')\n",
    "city['users'] = city['users'].str.replace(',', '')\n",
    "city['population'] = city['population'].apply(lambda x: float(x.strip()))\n",
    "city['users'] = city['users'].apply(lambda x: float(x.strip()))\n",
    "city.corr()"
   ]
  },
  {
   "cell_type": "markdown",
   "id": "667fd31e",
   "metadata": {},
   "source": [
    "__As we can see, population and users are quite highly correlated with a value of 0.7 (approx.). With an increase in population, we see that there is an increase in the number of cab users.__"
   ]
  },
  {
   "cell_type": "code",
   "execution_count": 26,
   "id": "8b96681c",
   "metadata": {},
   "outputs": [
    {
     "data": {
      "text/html": [
       "<div>\n",
       "<style scoped>\n",
       "    .dataframe tbody tr th:only-of-type {\n",
       "        vertical-align: middle;\n",
       "    }\n",
       "\n",
       "    .dataframe tbody tr th {\n",
       "        vertical-align: top;\n",
       "    }\n",
       "\n",
       "    .dataframe thead th {\n",
       "        text-align: right;\n",
       "    }\n",
       "</style>\n",
       "<table border=\"1\" class=\"dataframe\">\n",
       "  <thead>\n",
       "    <tr style=\"text-align: right;\">\n",
       "      <th></th>\n",
       "      <th>city</th>\n",
       "      <th>population</th>\n",
       "      <th>users</th>\n",
       "    </tr>\n",
       "  </thead>\n",
       "  <tbody>\n",
       "    <tr>\n",
       "      <th>0</th>\n",
       "      <td>NEW YORK NY</td>\n",
       "      <td>8405837.0</td>\n",
       "      <td>302149.0</td>\n",
       "    </tr>\n",
       "    <tr>\n",
       "      <th>1</th>\n",
       "      <td>CHICAGO IL</td>\n",
       "      <td>1955130.0</td>\n",
       "      <td>164468.0</td>\n",
       "    </tr>\n",
       "    <tr>\n",
       "      <th>2</th>\n",
       "      <td>LOS ANGELES CA</td>\n",
       "      <td>1595037.0</td>\n",
       "      <td>144132.0</td>\n",
       "    </tr>\n",
       "    <tr>\n",
       "      <th>3</th>\n",
       "      <td>MIAMI FL</td>\n",
       "      <td>1339155.0</td>\n",
       "      <td>17675.0</td>\n",
       "    </tr>\n",
       "    <tr>\n",
       "      <th>4</th>\n",
       "      <td>SILICON VALLEY</td>\n",
       "      <td>1177609.0</td>\n",
       "      <td>27247.0</td>\n",
       "    </tr>\n",
       "  </tbody>\n",
       "</table>\n",
       "</div>"
      ],
      "text/plain": [
       "             city  population     users\n",
       "0     NEW YORK NY   8405837.0  302149.0\n",
       "1      CHICAGO IL   1955130.0  164468.0\n",
       "2  LOS ANGELES CA   1595037.0  144132.0\n",
       "3        MIAMI FL   1339155.0   17675.0\n",
       "4  SILICON VALLEY   1177609.0   27247.0"
      ]
     },
     "execution_count": 26,
     "metadata": {},
     "output_type": "execute_result"
    }
   ],
   "source": [
    "city.head()"
   ]
  },
  {
   "cell_type": "markdown",
   "id": "519a00e0",
   "metadata": {},
   "source": [
    "# Exploring the Customer_ID.csv\n",
    "\n",
    "__The following columns are present in the dataset:__     \n",
    "\n",
    "- Customer ID   \n",
    "- Gender     \n",
    "- Age     \n",
    "- Income (USD/Month)"
   ]
  },
  {
   "cell_type": "code",
   "execution_count": 27,
   "id": "195b52bd",
   "metadata": {},
   "outputs": [
    {
     "name": "stdout",
     "output_type": "stream",
     "text": [
      "49171\n"
     ]
    },
    {
     "data": {
      "text/html": [
       "<div>\n",
       "<style scoped>\n",
       "    .dataframe tbody tr th:only-of-type {\n",
       "        vertical-align: middle;\n",
       "    }\n",
       "\n",
       "    .dataframe tbody tr th {\n",
       "        vertical-align: top;\n",
       "    }\n",
       "\n",
       "    .dataframe thead th {\n",
       "        text-align: right;\n",
       "    }\n",
       "</style>\n",
       "<table border=\"1\" class=\"dataframe\">\n",
       "  <thead>\n",
       "    <tr style=\"text-align: right;\">\n",
       "      <th></th>\n",
       "      <th>Customer ID</th>\n",
       "      <th>Gender</th>\n",
       "      <th>Age</th>\n",
       "      <th>Income (USD/Month)</th>\n",
       "    </tr>\n",
       "  </thead>\n",
       "  <tbody>\n",
       "    <tr>\n",
       "      <th>0</th>\n",
       "      <td>29290</td>\n",
       "      <td>Male</td>\n",
       "      <td>28</td>\n",
       "      <td>10813</td>\n",
       "    </tr>\n",
       "    <tr>\n",
       "      <th>1</th>\n",
       "      <td>27703</td>\n",
       "      <td>Male</td>\n",
       "      <td>27</td>\n",
       "      <td>9237</td>\n",
       "    </tr>\n",
       "    <tr>\n",
       "      <th>2</th>\n",
       "      <td>28712</td>\n",
       "      <td>Male</td>\n",
       "      <td>53</td>\n",
       "      <td>11242</td>\n",
       "    </tr>\n",
       "    <tr>\n",
       "      <th>3</th>\n",
       "      <td>28020</td>\n",
       "      <td>Male</td>\n",
       "      <td>23</td>\n",
       "      <td>23327</td>\n",
       "    </tr>\n",
       "    <tr>\n",
       "      <th>4</th>\n",
       "      <td>27182</td>\n",
       "      <td>Male</td>\n",
       "      <td>33</td>\n",
       "      <td>8536</td>\n",
       "    </tr>\n",
       "  </tbody>\n",
       "</table>\n",
       "</div>"
      ],
      "text/plain": [
       "   Customer ID Gender  Age  Income (USD/Month)\n",
       "0        29290   Male   28               10813\n",
       "1        27703   Male   27                9237\n",
       "2        28712   Male   53               11242\n",
       "3        28020   Male   23               23327\n",
       "4        27182   Male   33                8536"
      ]
     },
     "execution_count": 27,
     "metadata": {},
     "output_type": "execute_result"
    }
   ],
   "source": [
    "customer = pd.read_csv('Datasets/Customer_ID.csv')\n",
    "print(len(customer))\n",
    "customer.head()"
   ]
  },
  {
   "cell_type": "code",
   "execution_count": 28,
   "id": "6bddd7cf",
   "metadata": {},
   "outputs": [
    {
     "data": {
      "text/html": [
       "<div>\n",
       "<style scoped>\n",
       "    .dataframe tbody tr th:only-of-type {\n",
       "        vertical-align: middle;\n",
       "    }\n",
       "\n",
       "    .dataframe tbody tr th {\n",
       "        vertical-align: top;\n",
       "    }\n",
       "\n",
       "    .dataframe thead th {\n",
       "        text-align: right;\n",
       "    }\n",
       "</style>\n",
       "<table border=\"1\" class=\"dataframe\">\n",
       "  <thead>\n",
       "    <tr style=\"text-align: right;\">\n",
       "      <th></th>\n",
       "      <th>Customer ID</th>\n",
       "      <th>Age</th>\n",
       "      <th>Income (USD/Month)</th>\n",
       "    </tr>\n",
       "  </thead>\n",
       "  <tbody>\n",
       "    <tr>\n",
       "      <th>count</th>\n",
       "      <td>49171.000000</td>\n",
       "      <td>49171.000000</td>\n",
       "      <td>49171.000000</td>\n",
       "    </tr>\n",
       "    <tr>\n",
       "      <th>mean</th>\n",
       "      <td>28398.252283</td>\n",
       "      <td>35.363121</td>\n",
       "      <td>15015.631856</td>\n",
       "    </tr>\n",
       "    <tr>\n",
       "      <th>std</th>\n",
       "      <td>17714.137333</td>\n",
       "      <td>12.599066</td>\n",
       "      <td>8002.208253</td>\n",
       "    </tr>\n",
       "    <tr>\n",
       "      <th>min</th>\n",
       "      <td>1.000000</td>\n",
       "      <td>18.000000</td>\n",
       "      <td>2000.000000</td>\n",
       "    </tr>\n",
       "    <tr>\n",
       "      <th>25%</th>\n",
       "      <td>12654.500000</td>\n",
       "      <td>25.000000</td>\n",
       "      <td>8289.500000</td>\n",
       "    </tr>\n",
       "    <tr>\n",
       "      <th>50%</th>\n",
       "      <td>27631.000000</td>\n",
       "      <td>33.000000</td>\n",
       "      <td>14656.000000</td>\n",
       "    </tr>\n",
       "    <tr>\n",
       "      <th>75%</th>\n",
       "      <td>43284.500000</td>\n",
       "      <td>42.000000</td>\n",
       "      <td>21035.000000</td>\n",
       "    </tr>\n",
       "    <tr>\n",
       "      <th>max</th>\n",
       "      <td>60000.000000</td>\n",
       "      <td>65.000000</td>\n",
       "      <td>35000.000000</td>\n",
       "    </tr>\n",
       "  </tbody>\n",
       "</table>\n",
       "</div>"
      ],
      "text/plain": [
       "        Customer ID           Age  Income (USD/Month)\n",
       "count  49171.000000  49171.000000        49171.000000\n",
       "mean   28398.252283     35.363121        15015.631856\n",
       "std    17714.137333     12.599066         8002.208253\n",
       "min        1.000000     18.000000         2000.000000\n",
       "25%    12654.500000     25.000000         8289.500000\n",
       "50%    27631.000000     33.000000        14656.000000\n",
       "75%    43284.500000     42.000000        21035.000000\n",
       "max    60000.000000     65.000000        35000.000000"
      ]
     },
     "execution_count": 28,
     "metadata": {},
     "output_type": "execute_result"
    }
   ],
   "source": [
    "customer.describe()"
   ]
  },
  {
   "cell_type": "code",
   "execution_count": 29,
   "id": "44b45801",
   "metadata": {},
   "outputs": [
    {
     "data": {
      "text/html": [
       "<div>\n",
       "<style scoped>\n",
       "    .dataframe tbody tr th:only-of-type {\n",
       "        vertical-align: middle;\n",
       "    }\n",
       "\n",
       "    .dataframe tbody tr th {\n",
       "        vertical-align: top;\n",
       "    }\n",
       "\n",
       "    .dataframe thead th {\n",
       "        text-align: right;\n",
       "    }\n",
       "</style>\n",
       "<table border=\"1\" class=\"dataframe\">\n",
       "  <thead>\n",
       "    <tr style=\"text-align: right;\">\n",
       "      <th></th>\n",
       "      <th>gender</th>\n",
       "      <th>age</th>\n",
       "      <th>income_per_month_dollars</th>\n",
       "    </tr>\n",
       "    <tr>\n",
       "      <th>cust_ID</th>\n",
       "      <th></th>\n",
       "      <th></th>\n",
       "      <th></th>\n",
       "    </tr>\n",
       "  </thead>\n",
       "  <tbody>\n",
       "    <tr>\n",
       "      <th>29290</th>\n",
       "      <td>Male</td>\n",
       "      <td>28</td>\n",
       "      <td>10813</td>\n",
       "    </tr>\n",
       "    <tr>\n",
       "      <th>27703</th>\n",
       "      <td>Male</td>\n",
       "      <td>27</td>\n",
       "      <td>9237</td>\n",
       "    </tr>\n",
       "    <tr>\n",
       "      <th>28712</th>\n",
       "      <td>Male</td>\n",
       "      <td>53</td>\n",
       "      <td>11242</td>\n",
       "    </tr>\n",
       "    <tr>\n",
       "      <th>28020</th>\n",
       "      <td>Male</td>\n",
       "      <td>23</td>\n",
       "      <td>23327</td>\n",
       "    </tr>\n",
       "    <tr>\n",
       "      <th>27182</th>\n",
       "      <td>Male</td>\n",
       "      <td>33</td>\n",
       "      <td>8536</td>\n",
       "    </tr>\n",
       "  </tbody>\n",
       "</table>\n",
       "</div>"
      ],
      "text/plain": [
       "        gender  age  income_per_month_dollars\n",
       "cust_ID                                      \n",
       "29290     Male   28                     10813\n",
       "27703     Male   27                      9237\n",
       "28712     Male   53                     11242\n",
       "28020     Male   23                     23327\n",
       "27182     Male   33                      8536"
      ]
     },
     "execution_count": 29,
     "metadata": {},
     "output_type": "execute_result"
    }
   ],
   "source": [
    "customer.columns = ['cust_ID','gender','age','income_per_month_dollars']\n",
    "customer = customer.set_index('cust_ID')\n",
    "customer.head()"
   ]
  },
  {
   "cell_type": "code",
   "execution_count": 30,
   "id": "bd973a57",
   "metadata": {},
   "outputs": [
    {
     "data": {
      "text/plain": [
       "gender\n",
       "Female    14986.068601\n",
       "Male      15040.795460\n",
       "Name: income_per_month_dollars, dtype: float64"
      ]
     },
     "execution_count": 30,
     "metadata": {},
     "output_type": "execute_result"
    }
   ],
   "source": [
    "customer.groupby('gender').income_per_month_dollars.mean()"
   ]
  },
  {
   "cell_type": "code",
   "execution_count": 31,
   "id": "47257726",
   "metadata": {},
   "outputs": [
    {
     "data": {
      "text/plain": [
       "gender\n",
       "Female    35.307621\n",
       "Male      35.410361\n",
       "Name: age, dtype: float64"
      ]
     },
     "execution_count": 31,
     "metadata": {},
     "output_type": "execute_result"
    }
   ],
   "source": [
    "customer.groupby('gender').age.mean()"
   ]
  },
  {
   "cell_type": "code",
   "execution_count": 32,
   "id": "56bbe9f7",
   "metadata": {},
   "outputs": [
    {
     "data": {
      "text/plain": [
       "gender\n",
       "Female    33\n",
       "Male      33\n",
       "Name: age, dtype: int64"
      ]
     },
     "execution_count": 32,
     "metadata": {},
     "output_type": "execute_result"
    }
   ],
   "source": [
    "customer.groupby('gender').age.median()"
   ]
  },
  {
   "cell_type": "markdown",
   "id": "25b8c4b5",
   "metadata": {},
   "source": [
    "__By exploring this data, we see that the average age and income per month are pretty similar for both male and female. With the average age being around 35, we can see that the customers using cabs most frequently are those in the middle of their careers. Since the median of the age data for both genders is the same, we know that the age is quite similarly distributed.__"
   ]
  },
  {
   "cell_type": "markdown",
   "id": "9ba76b09",
   "metadata": {},
   "source": [
    "# Exploring the Transaction_ID.csv\n",
    "\n",
    "__The following columns are present in the dataset:__     \n",
    "\n",
    "- Transaction ID (txnID): Unique for each transaction\n",
    "- Customer ID (custID): Uniwue for each customer\n",
    "- Payment_Mode (mode_payment): Whether the customer uses cash or card"
   ]
  },
  {
   "cell_type": "code",
   "execution_count": 33,
   "id": "05781415",
   "metadata": {},
   "outputs": [
    {
     "data": {
      "text/html": [
       "<div>\n",
       "<style scoped>\n",
       "    .dataframe tbody tr th:only-of-type {\n",
       "        vertical-align: middle;\n",
       "    }\n",
       "\n",
       "    .dataframe tbody tr th {\n",
       "        vertical-align: top;\n",
       "    }\n",
       "\n",
       "    .dataframe thead th {\n",
       "        text-align: right;\n",
       "    }\n",
       "</style>\n",
       "<table border=\"1\" class=\"dataframe\">\n",
       "  <thead>\n",
       "    <tr style=\"text-align: right;\">\n",
       "      <th></th>\n",
       "      <th>Transaction ID</th>\n",
       "      <th>Customer ID</th>\n",
       "      <th>Payment_Mode</th>\n",
       "    </tr>\n",
       "  </thead>\n",
       "  <tbody>\n",
       "    <tr>\n",
       "      <th>0</th>\n",
       "      <td>10000011</td>\n",
       "      <td>29290</td>\n",
       "      <td>Card</td>\n",
       "    </tr>\n",
       "    <tr>\n",
       "      <th>1</th>\n",
       "      <td>10000012</td>\n",
       "      <td>27703</td>\n",
       "      <td>Card</td>\n",
       "    </tr>\n",
       "    <tr>\n",
       "      <th>2</th>\n",
       "      <td>10000013</td>\n",
       "      <td>28712</td>\n",
       "      <td>Cash</td>\n",
       "    </tr>\n",
       "    <tr>\n",
       "      <th>3</th>\n",
       "      <td>10000014</td>\n",
       "      <td>28020</td>\n",
       "      <td>Cash</td>\n",
       "    </tr>\n",
       "    <tr>\n",
       "      <th>4</th>\n",
       "      <td>10000015</td>\n",
       "      <td>27182</td>\n",
       "      <td>Card</td>\n",
       "    </tr>\n",
       "  </tbody>\n",
       "</table>\n",
       "</div>"
      ],
      "text/plain": [
       "   Transaction ID  Customer ID Payment_Mode\n",
       "0        10000011        29290         Card\n",
       "1        10000012        27703         Card\n",
       "2        10000013        28712         Cash\n",
       "3        10000014        28020         Cash\n",
       "4        10000015        27182         Card"
      ]
     },
     "execution_count": 33,
     "metadata": {},
     "output_type": "execute_result"
    }
   ],
   "source": [
    "transactions = pd.read_csv('Datasets/Transaction_ID.csv')\n",
    "transactions.head()"
   ]
  },
  {
   "cell_type": "code",
   "execution_count": 34,
   "id": "41b6c521",
   "metadata": {},
   "outputs": [
    {
     "data": {
      "text/html": [
       "<div>\n",
       "<style scoped>\n",
       "    .dataframe tbody tr th:only-of-type {\n",
       "        vertical-align: middle;\n",
       "    }\n",
       "\n",
       "    .dataframe tbody tr th {\n",
       "        vertical-align: top;\n",
       "    }\n",
       "\n",
       "    .dataframe thead th {\n",
       "        text-align: right;\n",
       "    }\n",
       "</style>\n",
       "<table border=\"1\" class=\"dataframe\">\n",
       "  <thead>\n",
       "    <tr style=\"text-align: right;\">\n",
       "      <th></th>\n",
       "      <th>Transaction ID</th>\n",
       "      <th>Customer ID</th>\n",
       "    </tr>\n",
       "  </thead>\n",
       "  <tbody>\n",
       "    <tr>\n",
       "      <th>count</th>\n",
       "      <td>4.400980e+05</td>\n",
       "      <td>440098.000000</td>\n",
       "    </tr>\n",
       "    <tr>\n",
       "      <th>mean</th>\n",
       "      <td>1.022006e+07</td>\n",
       "      <td>23619.513120</td>\n",
       "    </tr>\n",
       "    <tr>\n",
       "      <th>std</th>\n",
       "      <td>1.270455e+05</td>\n",
       "      <td>21195.549816</td>\n",
       "    </tr>\n",
       "    <tr>\n",
       "      <th>min</th>\n",
       "      <td>1.000001e+07</td>\n",
       "      <td>1.000000</td>\n",
       "    </tr>\n",
       "    <tr>\n",
       "      <th>25%</th>\n",
       "      <td>1.011004e+07</td>\n",
       "      <td>3530.000000</td>\n",
       "    </tr>\n",
       "    <tr>\n",
       "      <th>50%</th>\n",
       "      <td>1.022006e+07</td>\n",
       "      <td>15168.000000</td>\n",
       "    </tr>\n",
       "    <tr>\n",
       "      <th>75%</th>\n",
       "      <td>1.033008e+07</td>\n",
       "      <td>43884.000000</td>\n",
       "    </tr>\n",
       "    <tr>\n",
       "      <th>max</th>\n",
       "      <td>1.044011e+07</td>\n",
       "      <td>60000.000000</td>\n",
       "    </tr>\n",
       "  </tbody>\n",
       "</table>\n",
       "</div>"
      ],
      "text/plain": [
       "       Transaction ID    Customer ID\n",
       "count    4.400980e+05  440098.000000\n",
       "mean     1.022006e+07   23619.513120\n",
       "std      1.270455e+05   21195.549816\n",
       "min      1.000001e+07       1.000000\n",
       "25%      1.011004e+07    3530.000000\n",
       "50%      1.022006e+07   15168.000000\n",
       "75%      1.033008e+07   43884.000000\n",
       "max      1.044011e+07   60000.000000"
      ]
     },
     "execution_count": 34,
     "metadata": {},
     "output_type": "execute_result"
    }
   ],
   "source": [
    "transactions.describe()"
   ]
  },
  {
   "cell_type": "markdown",
   "id": "38bbb1be",
   "metadata": {},
   "source": [
    "__We can see that the data in this dataset not only contains the data in for these 2 cab companies but others as well.__"
   ]
  },
  {
   "cell_type": "code",
   "execution_count": 35,
   "id": "f9cee961",
   "metadata": {},
   "outputs": [
    {
     "data": {
      "text/plain": [
       "Card    263991\n",
       "Cash    176107\n",
       "Name: Payment_Mode, dtype: int64"
      ]
     },
     "execution_count": 35,
     "metadata": {},
     "output_type": "execute_result"
    }
   ],
   "source": [
    "transactions.Payment_Mode.value_counts()"
   ]
  },
  {
   "cell_type": "markdown",
   "id": "40c028b3",
   "metadata": {},
   "source": [
    "# Exploring Master_Data.csv\n",
    "\n",
    "__The dataset has the following columns:__   \n",
    "\n",
    "- Transaction ID (txnID): Uniqie Transaction ID\n",
    "- Company (company): Which company did the ride\n",
    "- City (city): City in which the ride took place\n",
    "- Distance Travelled (travel_distance): Distance of the ride\n",
    "- Price (price): Price charged by the company for the ride\n",
    "- Cost (cost): Working cost put into the ride\n",
    "- Profit (profit): Profit taken per ride\n",
    "- Population (population): Population in the city\n",
    "- User Ratio (user_ratio): Ratio of users to population in each city\n",
    "- Customer ID (custID): Unique ID assigned to each customer\n",
    "- Mode of Payment (mode_payment): Payment mode used to pay by each customer\n",
    "- Gender (gender): The customer's age\n",
    "- Income Per Month (income_per_month): The customer's monthly income\n",
    "- State (state): The state in which the ride took place"
   ]
  },
  {
   "cell_type": "code",
   "execution_count": 36,
   "id": "158c8e11",
   "metadata": {},
   "outputs": [
    {
     "data": {
      "text/html": [
       "<div>\n",
       "<style scoped>\n",
       "    .dataframe tbody tr th:only-of-type {\n",
       "        vertical-align: middle;\n",
       "    }\n",
       "\n",
       "    .dataframe tbody tr th {\n",
       "        vertical-align: top;\n",
       "    }\n",
       "\n",
       "    .dataframe thead th {\n",
       "        text-align: right;\n",
       "    }\n",
       "</style>\n",
       "<table border=\"1\" class=\"dataframe\">\n",
       "  <thead>\n",
       "    <tr style=\"text-align: right;\">\n",
       "      <th></th>\n",
       "      <th>txnID</th>\n",
       "      <th>company</th>\n",
       "      <th>city</th>\n",
       "      <th>travel_distance</th>\n",
       "      <th>price</th>\n",
       "      <th>cost</th>\n",
       "      <th>profit</th>\n",
       "      <th>population</th>\n",
       "      <th>user_ratio</th>\n",
       "      <th>custID</th>\n",
       "      <th>mode_payment</th>\n",
       "      <th>gender</th>\n",
       "      <th>age</th>\n",
       "      <th>income_per_month</th>\n",
       "      <th>state</th>\n",
       "    </tr>\n",
       "  </thead>\n",
       "  <tbody>\n",
       "    <tr>\n",
       "      <th>0</th>\n",
       "      <td>10000011</td>\n",
       "      <td>Pink Cab</td>\n",
       "      <td>ATLANTA</td>\n",
       "      <td>30.45</td>\n",
       "      <td>370.95</td>\n",
       "      <td>313.635</td>\n",
       "      <td>57.315</td>\n",
       "      <td>814885.0</td>\n",
       "      <td>0.030312</td>\n",
       "      <td>29290</td>\n",
       "      <td>Card</td>\n",
       "      <td>Male</td>\n",
       "      <td>28</td>\n",
       "      <td>10813</td>\n",
       "      <td>GA</td>\n",
       "    </tr>\n",
       "    <tr>\n",
       "      <th>1</th>\n",
       "      <td>10000012</td>\n",
       "      <td>Pink Cab</td>\n",
       "      <td>ATLANTA</td>\n",
       "      <td>28.62</td>\n",
       "      <td>358.52</td>\n",
       "      <td>334.854</td>\n",
       "      <td>23.666</td>\n",
       "      <td>814885.0</td>\n",
       "      <td>0.030312</td>\n",
       "      <td>27703</td>\n",
       "      <td>Card</td>\n",
       "      <td>Male</td>\n",
       "      <td>27</td>\n",
       "      <td>9237</td>\n",
       "      <td>GA</td>\n",
       "    </tr>\n",
       "    <tr>\n",
       "      <th>2</th>\n",
       "      <td>10000013</td>\n",
       "      <td>Pink Cab</td>\n",
       "      <td>ATLANTA</td>\n",
       "      <td>9.04</td>\n",
       "      <td>125.20</td>\n",
       "      <td>97.632</td>\n",
       "      <td>27.568</td>\n",
       "      <td>814885.0</td>\n",
       "      <td>0.030312</td>\n",
       "      <td>28712</td>\n",
       "      <td>Cash</td>\n",
       "      <td>Male</td>\n",
       "      <td>53</td>\n",
       "      <td>11242</td>\n",
       "      <td>GA</td>\n",
       "    </tr>\n",
       "    <tr>\n",
       "      <th>3</th>\n",
       "      <td>10000014</td>\n",
       "      <td>Pink Cab</td>\n",
       "      <td>ATLANTA</td>\n",
       "      <td>33.17</td>\n",
       "      <td>377.40</td>\n",
       "      <td>351.602</td>\n",
       "      <td>25.798</td>\n",
       "      <td>814885.0</td>\n",
       "      <td>0.030312</td>\n",
       "      <td>28020</td>\n",
       "      <td>Cash</td>\n",
       "      <td>Male</td>\n",
       "      <td>23</td>\n",
       "      <td>23327</td>\n",
       "      <td>GA</td>\n",
       "    </tr>\n",
       "    <tr>\n",
       "      <th>4</th>\n",
       "      <td>10000015</td>\n",
       "      <td>Pink Cab</td>\n",
       "      <td>ATLANTA</td>\n",
       "      <td>8.73</td>\n",
       "      <td>114.62</td>\n",
       "      <td>97.776</td>\n",
       "      <td>16.844</td>\n",
       "      <td>814885.0</td>\n",
       "      <td>0.030312</td>\n",
       "      <td>27182</td>\n",
       "      <td>Card</td>\n",
       "      <td>Male</td>\n",
       "      <td>33</td>\n",
       "      <td>8536</td>\n",
       "      <td>GA</td>\n",
       "    </tr>\n",
       "  </tbody>\n",
       "</table>\n",
       "</div>"
      ],
      "text/plain": [
       "      txnID   company     city  travel_distance   price     cost  profit  \\\n",
       "0  10000011  Pink Cab  ATLANTA            30.45  370.95  313.635  57.315   \n",
       "1  10000012  Pink Cab  ATLANTA            28.62  358.52  334.854  23.666   \n",
       "2  10000013  Pink Cab  ATLANTA             9.04  125.20   97.632  27.568   \n",
       "3  10000014  Pink Cab  ATLANTA            33.17  377.40  351.602  25.798   \n",
       "4  10000015  Pink Cab  ATLANTA             8.73  114.62   97.776  16.844   \n",
       "\n",
       "   population  user_ratio  custID mode_payment gender  age  income_per_month  \\\n",
       "0    814885.0    0.030312   29290         Card   Male   28             10813   \n",
       "1    814885.0    0.030312   27703         Card   Male   27              9237   \n",
       "2    814885.0    0.030312   28712         Cash   Male   53             11242   \n",
       "3    814885.0    0.030312   28020         Cash   Male   23             23327   \n",
       "4    814885.0    0.030312   27182         Card   Male   33              8536   \n",
       "\n",
       "  state  \n",
       "0    GA  \n",
       "1    GA  \n",
       "2    GA  \n",
       "3    GA  \n",
       "4    GA  "
      ]
     },
     "execution_count": 36,
     "metadata": {},
     "output_type": "execute_result"
    }
   ],
   "source": [
    "master = pd.read_csv('Datasets/Master_Data.csv')\n",
    "master.head()"
   ]
  },
  {
   "cell_type": "markdown",
   "id": "7f00d64e",
   "metadata": {},
   "source": [
    "# Feature Exploration\n",
    "\n",
    "__Let us explore some features that might give us some useful insights. Questions:__   \n",
    "\n",
    "- Relationship Between price and city/state\n",
    "- Payment mode by age\n",
    "- Profit Analysis and Cost Analysis\n",
    "- Profit Analysis with gender, age, income\n",
    "- More to come"
   ]
  },
  {
   "cell_type": "code",
   "execution_count": 74,
   "id": "a1dcc678",
   "metadata": {},
   "outputs": [
    {
     "data": {
      "text/plain": [
       "company     city        \n",
       "Pink Cab    DALLAS          260.025652\n",
       "            PITTSBURGH      273.879355\n",
       "            DENVER          276.202453\n",
       "            PHOENIX         280.321458\n",
       "            CHICAGO         281.613731\n",
       "            NASHVILLE       282.062493\n",
       "            SACRAMENTO      290.110810\n",
       "            SEATTLE         291.223898\n",
       "            WASHINGTON      299.974561\n",
       "            BOSTON          300.551489\n",
       "            ATLANTA         302.131555\n",
       "            LOS ANGELES     305.624252\n",
       "            SAN DIEGO       307.938193\n",
       "            ORANGE COUN     312.026874\n",
       "            AUSTIN          320.435070\n",
       "            TUCSON          323.213554\n",
       "            MIAMI           326.006309\n",
       "            SILICON VALL    340.377008\n",
       "            NEW YORK        357.074129\n",
       "Yellow Cab  BOSTON          359.140431\n",
       "            SACRAMENTO      362.637106\n",
       "            CHICAGO         364.021927\n",
       "            TUCSON          366.018224\n",
       "            NASHVILLE       376.245577\n",
       "            WASHINGTON      381.051261\n",
       "            SEATTLE         391.014733\n",
       "            SAN DIEGO       392.223328\n",
       "            PITTSBURGH      405.313661\n",
       "            LOS ANGELES     416.231136\n",
       "            AUSTIN          422.248940\n",
       "            ATLANTA         422.413446\n",
       "            PHOENIX         428.737417\n",
       "            MIAMI           432.944872\n",
       "            ORANGE COUN     438.548623\n",
       "            DENVER          443.235413\n",
       "            DALLAS          493.807790\n",
       "            SILICON VALL    506.499502\n",
       "            NEW YORK        604.841911\n",
       "Name: price, dtype: float64"
      ]
     },
     "execution_count": 74,
     "metadata": {},
     "output_type": "execute_result"
    }
   ],
   "source": [
    "avg_price_by_city = master.groupby(['company','city']).price.mean().sort_values()\n",
    "avg_price_by_city"
   ]
  },
  {
   "cell_type": "code",
   "execution_count": 94,
   "id": "0d890e07",
   "metadata": {},
   "outputs": [
    {
     "data": {
      "text/plain": [
       "<matplotlib.legend.Legend at 0x7fa316e0d1f0>"
      ]
     },
     "execution_count": 94,
     "metadata": {},
     "output_type": "execute_result"
    },
    {
     "data": {
      "image/png": "[encoded data removed]",
      "text/plain": [
       "<Figure size 1050x490 with 1 Axes>"
      ]
     },
     "metadata": {
      "needs_background": "light"
     },
     "output_type": "display_data"
    }
   ],
   "source": [
    "plt.figure(figsize=(15, 7), dpi=70)\n",
    "plt.xticks(rotation=45, fontsize=15)\n",
    "plt.yticks(fontsize=20)\n",
    "plt.xlabel('Cities', fontsize=20)\n",
    "plt.ylabel('Average Price', fontsize=20)\n",
    "plt.title('Average Price in Different Cities', fontsize=25)\n",
    "sns.lineplot(data=avg_price_by_city['Yellow Cab'], sort=True)\n",
    "sns.lineplot(data=avg_price_by_city['Pink Cab'], sort=True)\n",
    "plt.legend(['Yellow','Pink'], prop={'size':20}, fontsize=15)"
   ]
  },
  {
   "cell_type": "markdown",
   "id": "82c9ed76",
   "metadata": {},
   "source": [
    "# To be changed\n",
    "__As we can observe the above graph, the most expensive cities for cabns include Miami, Silicon valley, Dallas and finally, New York. On the other hand, the cheapest cities for these rides are Nashville, Sacramento, Pittsburgh and so on.__\n",
    "\n",
    "__Let us now explore a similar feature of the City-wise costs__"
   ]
  },
  {
   "cell_type": "code",
   "execution_count": 91,
   "id": "956e14cc",
   "metadata": {},
   "outputs": [
    {
     "data": {
      "text/plain": [
       "company     city        \n",
       "Pink Cab    PHOENIX         239.121928\n",
       "            AUSTIN          241.502901\n",
       "            DALLAS          242.105281\n",
       "            ORANGE COUN     244.613898\n",
       "            MIAMI           244.936783\n",
       "            DENVER          247.088437\n",
       "            NASHVILLE       247.144224\n",
       "            WASHINGTON      247.491800\n",
       "            CHICAGO         247.565821\n",
       "            ATLANTA         247.619594\n",
       "            SAN DIEGO       248.165914\n",
       "            SACRAMENTO      248.638537\n",
       "            PITTSBURGH      248.794695\n",
       "            NEW YORK        248.856589\n",
       "            LOS ANGELES     248.955132\n",
       "            TUCSON          249.008830\n",
       "            SEATTLE         249.942297\n",
       "            BOSTON          250.030529\n",
       "            SILICON VALL    250.766650\n",
       "Yellow Cab  ATLANTA         293.615723\n",
       "            TUCSON          294.488966\n",
       "            ORANGE COUN     294.763268\n",
       "            SAN DIEGO       295.516553\n",
       "            DENVER          296.382238\n",
       "            NEW YORK        296.977659\n",
       "            AUSTIN          296.999358\n",
       "            PITTSBURGH      297.455945\n",
       "            SEATTLE         297.585765\n",
       "            PHOENIX         297.617010\n",
       "            BOSTON          297.656812\n",
       "            DALLAS          297.958374\n",
       "            WASHINGTON      298.666349\n",
       "            MIAMI           299.072443\n",
       "            CHICAGO         299.097441\n",
       "            LOS ANGELES     299.574768\n",
       "            SILICON VALL    299.711120\n",
       "            SACRAMENTO      302.615634\n",
       "            NASHVILLE       303.321981\n",
       "Name: cost, dtype: float64"
      ]
     },
     "execution_count": 91,
     "metadata": {},
     "output_type": "execute_result"
    }
   ],
   "source": [
    "avg_cost_by_city = master.groupby(['company','city']).cost.mean().sort_values()\n",
    "avg_cost_by_city"
   ]
  },
  {
   "cell_type": "code",
   "execution_count": 93,
   "id": "a0d00d51",
   "metadata": {},
   "outputs": [
    {
     "data": {
      "text/plain": [
       "<matplotlib.legend.Legend at 0x7fa316d6fa30>"
      ]
     },
     "execution_count": 93,
     "metadata": {},
     "output_type": "execute_result"
    },
    {
     "data": {
      "image/png": "[encoded data removed]",
      "text/plain": [
       "<Figure size 1050x490 with 1 Axes>"
      ]
     },
     "metadata": {
      "needs_background": "light"
     },
     "output_type": "display_data"
    }
   ],
   "source": [
    "plt.figure(figsize=(15, 7), dpi=70)\n",
    "plt.xticks(rotation=45, fontsize=15)\n",
    "plt.yticks(fontsize=20)\n",
    "plt.xlabel('Cities', fontsize=20)\n",
    "plt.ylabel('Average Cost', fontsize=20)\n",
    "plt.title('Average Cost in Different Cities', fontsize=25)\n",
    "sns.lineplot(data=avg_cost_by_city['Yellow Cab'], sort=True)\n",
    "sns.lineplot(data=avg_cost_by_city['Pink Cab'], sort=True)\n",
    "plt.legend(['Yellow','Pink'], prop={'size':20}, fontsize=15)"
   ]
  },
  {
   "cell_type": "code",
   "execution_count": null,
   "id": "a175c5a0",
   "metadata": {},
   "outputs": [],
   "source": []
  }
 ],
 "metadata": {
  "kernelspec": {
   "display_name": "Python 3",
   "language": "python",
   "name": "python3"
  },
  "language_info": {
   "codemirror_mode": {
    "name": "ipython",
    "version": 3
   },
   "file_extension": ".py",
   "mimetype": "text/x-python",
   "name": "python",
   "nbconvert_exporter": "python",
   "pygments_lexer": "ipython3",
   "version": "3.9.5"
  }
 },
 "nbformat": 4,
 "nbformat_minor": 5
}
